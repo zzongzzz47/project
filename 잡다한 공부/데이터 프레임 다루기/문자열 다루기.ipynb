{
 "cells": [
  {
   "cell_type": "code",
   "execution_count": 1,
   "metadata": {},
   "outputs": [],
   "source": [
    "import pandas as pd"
   ]
  },
  {
   "cell_type": "code",
   "execution_count": 4,
   "metadata": {},
   "outputs": [
    {
     "data": {
      "text/html": [
       "<div>\n",
       "<style scoped>\n",
       "    .dataframe tbody tr th:only-of-type {\n",
       "        vertical-align: middle;\n",
       "    }\n",
       "\n",
       "    .dataframe tbody tr th {\n",
       "        vertical-align: top;\n",
       "    }\n",
       "\n",
       "    .dataframe thead th {\n",
       "        text-align: right;\n",
       "    }\n",
       "</style>\n",
       "<table border=\"1\" class=\"dataframe\">\n",
       "  <thead>\n",
       "    <tr style=\"text-align: right;\">\n",
       "      <th></th>\n",
       "      <th>id</th>\n",
       "      <th>state</th>\n",
       "      <th>location</th>\n",
       "      <th>guests</th>\n",
       "      <th>beds</th>\n",
       "      <th>property_type</th>\n",
       "      <th>n_reviews</th>\n",
       "      <th>rating</th>\n",
       "      <th>price</th>\n",
       "    </tr>\n",
       "  </thead>\n",
       "  <tbody>\n",
       "    <tr>\n",
       "      <th>0</th>\n",
       "      <td>BF1406</td>\n",
       "      <td>Illinois</td>\n",
       "      <td>Avondale, Chicago.</td>\n",
       "      <td>2</td>\n",
       "      <td>1</td>\n",
       "      <td>Apartment</td>\n",
       "      <td>55.0</td>\n",
       "      <td>96.0</td>\n",
       "      <td>48</td>\n",
       "    </tr>\n",
       "    <tr>\n",
       "      <th>1</th>\n",
       "      <td>DB7921</td>\n",
       "      <td>MASSACHUSETTS</td>\n",
       "      <td>South End, Boston.</td>\n",
       "      <td>4</td>\n",
       "      <td>1</td>\n",
       "      <td>Apartment</td>\n",
       "      <td>0.0</td>\n",
       "      <td>NaN</td>\n",
       "      <td>115</td>\n",
       "    </tr>\n",
       "    <tr>\n",
       "      <th>2</th>\n",
       "      <td>OZ5857</td>\n",
       "      <td>ILLINOIS</td>\n",
       "      <td>Avondale, Chicago.</td>\n",
       "      <td>4</td>\n",
       "      <td>3</td>\n",
       "      <td>Apartment</td>\n",
       "      <td>51.0</td>\n",
       "      <td>99.0</td>\n",
       "      <td>150</td>\n",
       "    </tr>\n",
       "    <tr>\n",
       "      <th>3</th>\n",
       "      <td>HY8797</td>\n",
       "      <td>california</td>\n",
       "      <td>SoMa, San Francisco.</td>\n",
       "      <td>2</td>\n",
       "      <td>1</td>\n",
       "      <td>Apartment</td>\n",
       "      <td>4.0</td>\n",
       "      <td>74.0</td>\n",
       "      <td>125</td>\n",
       "    </tr>\n",
       "    <tr>\n",
       "      <th>4</th>\n",
       "      <td>VN7858</td>\n",
       "      <td>massachusetts</td>\n",
       "      <td>West Roxbury, Boston.</td>\n",
       "      <td>2</td>\n",
       "      <td>1</td>\n",
       "      <td>House</td>\n",
       "      <td>23.0</td>\n",
       "      <td>86.0</td>\n",
       "      <td>64</td>\n",
       "    </tr>\n",
       "  </tbody>\n",
       "</table>\n",
       "</div>"
      ],
      "text/plain": [
       "       id          state               location  guests  beds property_type  \\\n",
       "0  BF1406       Illinois     Avondale, Chicago.       2     1     Apartment   \n",
       "1  DB7921  MASSACHUSETTS     South End, Boston.       4     1     Apartment   \n",
       "2  OZ5857       ILLINOIS     Avondale, Chicago.       4     3     Apartment   \n",
       "3  HY8797     california   SoMa, San Francisco.       2     1     Apartment   \n",
       "4  VN7858  massachusetts  West Roxbury, Boston.       2     1         House   \n",
       "\n",
       "   n_reviews  rating  price  \n",
       "0       55.0    96.0     48  \n",
       "1        0.0     NaN    115  \n",
       "2       51.0    99.0    150  \n",
       "3        4.0    74.0    125  \n",
       "4       23.0    86.0     64  "
      ]
     },
     "execution_count": 4,
     "metadata": {},
     "output_type": "execute_result"
    }
   ],
   "source": [
    "airbnb_df = pd.read_csv('airbnb.csv')\n",
    "airbnb_df.head()"
   ]
  },
  {
   "cell_type": "code",
   "execution_count": 8,
   "metadata": {},
   "outputs": [
    {
     "data": {
      "text/plain": [
       "0           Illinois\n",
       "1      Massachusetts\n",
       "2           Illinois\n",
       "3         California\n",
       "4      Massachusetts\n",
       "           ...      \n",
       "708       California\n",
       "709       California\n",
       "710       California\n",
       "711         Illinois\n",
       "712    Massachusetts\n",
       "Name: state, Length: 713, dtype: object"
      ]
     },
     "execution_count": 8,
     "metadata": {},
     "output_type": "execute_result"
    }
   ],
   "source": [
    "# 대문자 만들기\n",
    "airbnb_df['state'].str.upper()\n",
    "\n",
    "# 앞글자만 대문자로\n",
    "airbnb_df['state'].str.capitalize()"
   ]
  },
  {
   "cell_type": "code",
   "execution_count": null,
   "metadata": {},
   "outputs": [],
   "source": [
    "# 쉼표기준으로 쪼개기\n",
    "\n",
    "airbnb_df['neighborhood'] = airbnb_df['location'].str.split(',').str[0]\n",
    "airbnb_df['city'] = airbnb_df['location'].str.split(',').str[1]"
   ]
  },
  {
   "cell_type": "code",
   "execution_count": 19,
   "metadata": {},
   "outputs": [
    {
     "data": {
      "text/plain": [
       "0            Chicago\n",
       "1             Boston\n",
       "2            Chicago\n",
       "3      San Francisco\n",
       "4             Boston\n",
       "           ...      \n",
       "708      Los Angeles\n",
       "709      Los Angeles\n",
       "710      Los Angeles\n",
       "711          Chicago\n",
       "712           Boston\n",
       "Name: city, Length: 713, dtype: object"
      ]
     },
     "execution_count": 19,
     "metadata": {},
     "output_type": "execute_result"
    }
   ],
   "source": [
    "airbnb_df['city'] = airbnb_df['city'].str.strip()\n",
    "airbnb_df['city'].str.replace('.','', regex=False)"
   ]
  }
 ],
 "metadata": {
  "kernelspec": {
   "display_name": "base",
   "language": "python",
   "name": "python3"
  },
  "language_info": {
   "codemirror_mode": {
    "name": "ipython",
    "version": 3
   },
   "file_extension": ".py",
   "mimetype": "text/x-python",
   "name": "python",
   "nbconvert_exporter": "python",
   "pygments_lexer": "ipython3",
   "version": "3.12.4"
  }
 },
 "nbformat": 4,
 "nbformat_minor": 2
}
